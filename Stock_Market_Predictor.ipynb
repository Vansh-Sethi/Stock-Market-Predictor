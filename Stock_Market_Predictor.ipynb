{
  "nbformat": 4,
  "nbformat_minor": 0,
  "metadata": {
    "colab": {
      "name": "Stock Market Predictor.ipynb",
      "provenance": [],
      "collapsed_sections": []
    },
    "kernelspec": {
      "name": "python3",
      "display_name": "Python 3"
    }
  },
  "cells": [
    {
      "cell_type": "markdown",
      "metadata": {
        "colab_type": "text",
        "id": "TKAxbUFku8lD"
      },
      "source": [
        "# **Dependancies**"
      ]
    },
    {
      "cell_type": "code",
      "metadata": {
        "id": "oFJOnSzBk_uB",
        "colab_type": "code",
        "colab": {}
      },
      "source": [
        "import numpy as np\n",
        "import pandas as pd\n",
        "import matplotlib.pyplot as plt\n",
        "from keras import *\n",
        "from keras.callbacks import *\n",
        "import os\n",
        "from sklearn.preprocessing import MinMaxScaler"
      ],
      "execution_count": 0,
      "outputs": []
    },
    {
      "cell_type": "markdown",
      "metadata": {
        "id": "22PseW2xqQET",
        "colab_type": "text"
      },
      "source": [
        "# **Loading Data**"
      ]
    },
    {
      "cell_type": "code",
      "metadata": {
        "id": "I0HH_FAAlRXx",
        "colab_type": "code",
        "colab": {}
      },
      "source": [
        "PATH_TO_DATA = \"/content/AAPL_data.csv\"\n",
        "data = pd.read_csv(PATH_TO_DATA)"
      ],
      "execution_count": 0,
      "outputs": []
    },
    {
      "cell_type": "code",
      "metadata": {
        "id": "hSzHTpuzmScU",
        "colab_type": "code",
        "colab": {}
      },
      "source": [
        "open_data = data[\"open\"].values"
      ],
      "execution_count": 0,
      "outputs": []
    },
    {
      "cell_type": "code",
      "metadata": {
        "id": "CDojXgA7mpWa",
        "colab_type": "code",
        "colab": {}
      },
      "source": [
        "open_data = open_data.reshape(-1,1)"
      ],
      "execution_count": 0,
      "outputs": []
    },
    {
      "cell_type": "code",
      "metadata": {
        "id": "2wNcl2z_JKkM",
        "colab_type": "code",
        "colab": {}
      },
      "source": [
        "scaler = MinMaxScaler(feature_range=(0,1))\n",
        "open_data = scaler.fit_transform(open_data)"
      ],
      "execution_count": 0,
      "outputs": []
    },
    {
      "cell_type": "code",
      "metadata": {
        "id": "qrMR5CSvmwGY",
        "colab_type": "code",
        "colab": {}
      },
      "source": [
        "open_data.shape\n",
        "data_train = open_data[:1001]\n",
        "data_test = open_data[975:]"
      ],
      "execution_count": 0,
      "outputs": []
    },
    {
      "cell_type": "code",
      "metadata": {
        "id": "OiFeShiznCf1",
        "colab_type": "code",
        "colab": {}
      },
      "source": [
        "#Creating X_test and Y_Test tensors\n",
        "x_train = []\n",
        "y_train = []\n",
        "\n",
        "for i in range(50,1001):\n",
        "  x_train.append(data_train[i-50:i])\n",
        "  y_train.append(data_train[i])\n",
        "x_train = np.asarray(x_train)\n",
        "y_train = np.asarray(y_train)"
      ],
      "execution_count": 0,
      "outputs": []
    },
    {
      "cell_type": "code",
      "metadata": {
        "id": "loWBNGbTn_2K",
        "colab_type": "code",
        "colab": {}
      },
      "source": [
        "#Creating X_test and Y_Test tensors\n",
        "x_test = []\n",
        "y_test = []\n",
        "\n",
        "for i in range(50,data_test.shape[0]):\n",
        "  x_test.append(data_test[i-50:i])\n",
        "  y_test.append(data_test[i])\n",
        "x_test = np.asarray(x_test)\n",
        "y_test = np.asarray(y_test)"
      ],
      "execution_count": 0,
      "outputs": []
    },
    {
      "cell_type": "markdown",
      "metadata": {
        "colab_type": "text",
        "id": "MVCJxdebqmOr"
      },
      "source": [
        "# **Model Architecture + Training**"
      ]
    },
    {
      "cell_type": "code",
      "metadata": {
        "id": "yvmtqKcrqt1s",
        "colab_type": "code",
        "outputId": "31f8007f-e3fa-4abd-c85c-18c29bbda788",
        "colab": {
          "base_uri": "https://localhost:8080/",
          "height": 228
        }
      },
      "source": [
        "model = Sequential([\n",
        "  layers.LSTM(units=96, return_sequences=True, input_shape=(50,1)),\n",
        "  layers.Dropout(0.2),\n",
        "  layers.LSTM(units=96, return_sequences=True),\n",
        "  layers.Dropout(0.2),\n",
        "  layers.LSTM(units=96, return_sequences=True),\n",
        "  layers.Dropout(0.2),\n",
        "  layers.LSTM(units=96, return_sequences=True),\n",
        "  layers.Dropout(0.2),\n",
        "  layers.LSTM(units=96, return_sequences=True),\n",
        "  layers.Dropout(0.2),\n",
        "  layers.LSTM(units=96),\n",
        "  layers.Dropout(0.2),\n",
        "  layers.Dense(1)\n",
        "])"
      ],
      "execution_count": 0,
      "outputs": [
        {
          "output_type": "stream",
          "text": [
            "WARNING:tensorflow:From /usr/local/lib/python3.6/dist-packages/keras/backend/tensorflow_backend.py:66: The name tf.get_default_graph is deprecated. Please use tf.compat.v1.get_default_graph instead.\n",
            "\n",
            "WARNING:tensorflow:From /usr/local/lib/python3.6/dist-packages/keras/backend/tensorflow_backend.py:541: The name tf.placeholder is deprecated. Please use tf.compat.v1.placeholder instead.\n",
            "\n",
            "WARNING:tensorflow:From /usr/local/lib/python3.6/dist-packages/keras/backend/tensorflow_backend.py:4432: The name tf.random_uniform is deprecated. Please use tf.random.uniform instead.\n",
            "\n",
            "WARNING:tensorflow:From /usr/local/lib/python3.6/dist-packages/keras/backend/tensorflow_backend.py:148: The name tf.placeholder_with_default is deprecated. Please use tf.compat.v1.placeholder_with_default instead.\n",
            "\n",
            "WARNING:tensorflow:From /usr/local/lib/python3.6/dist-packages/keras/backend/tensorflow_backend.py:3733: calling dropout (from tensorflow.python.ops.nn_ops) with keep_prob is deprecated and will be removed in a future version.\n",
            "Instructions for updating:\n",
            "Please use `rate` instead of `keep_prob`. Rate should be set to `rate = 1 - keep_prob`.\n"
          ],
          "name": "stdout"
        }
      ]
    },
    {
      "cell_type": "code",
      "metadata": {
        "id": "NBZ9JgDTrHwV",
        "colab_type": "code",
        "outputId": "40d0a5ca-682d-42d1-e08b-fd28df246868",
        "colab": {
          "base_uri": "https://localhost:8080/",
          "height": 72
        }
      },
      "source": [
        "model.compile(loss=\"mean_squared_error\", optimizer=\"adam\")"
      ],
      "execution_count": 0,
      "outputs": [
        {
          "output_type": "stream",
          "text": [
            "WARNING:tensorflow:From /usr/local/lib/python3.6/dist-packages/keras/optimizers.py:793: The name tf.train.Optimizer is deprecated. Please use tf.compat.v1.train.Optimizer instead.\n",
            "\n"
          ],
          "name": "stdout"
        }
      ]
    },
    {
      "cell_type": "code",
      "metadata": {
        "id": "0WWSdc7AxKV6",
        "colab_type": "code",
        "colab": {}
      },
      "source": [
        "mcp_save = ModelCheckpoint('mdl_wts.hdf5', save_best_only=True, monitor='val_loss', mode='min')\n",
        "earlyStopping = EarlyStopping(monitor='val_loss', patience=10, verbose=0, mode='min')"
      ],
      "execution_count": 0,
      "outputs": []
    },
    {
      "cell_type": "code",
      "metadata": {
        "id": "bIJPsArMr8cs",
        "colab_type": "code",
        "outputId": "91137564-8bb8-496c-c827-829e240a789a",
        "colab": {
          "base_uri": "https://localhost:8080/",
          "height": 1000
        }
      },
      "source": [
        "model.fit(x_train,y_train, epochs=100, batch_size=32, validation_split=0.15, callbacks=[mcp_save,earlyStopping])"
      ],
      "execution_count": 0,
      "outputs": [
        {
          "output_type": "stream",
          "text": [
            "WARNING:tensorflow:From /usr/local/lib/python3.6/dist-packages/tensorflow_core/python/ops/math_grad.py:1424: where (from tensorflow.python.ops.array_ops) is deprecated and will be removed in a future version.\n",
            "Instructions for updating:\n",
            "Use tf.where in 2.0, which has the same broadcast rule as np.where\n",
            "WARNING:tensorflow:From /usr/local/lib/python3.6/dist-packages/keras/backend/tensorflow_backend.py:1033: The name tf.assign_add is deprecated. Please use tf.compat.v1.assign_add instead.\n",
            "\n",
            "WARNING:tensorflow:From /usr/local/lib/python3.6/dist-packages/keras/backend/tensorflow_backend.py:1020: The name tf.assign is deprecated. Please use tf.compat.v1.assign instead.\n",
            "\n",
            "WARNING:tensorflow:From /usr/local/lib/python3.6/dist-packages/keras/backend/tensorflow_backend.py:3005: The name tf.Session is deprecated. Please use tf.compat.v1.Session instead.\n",
            "\n",
            "Train on 808 samples, validate on 143 samples\n",
            "Epoch 1/100\n",
            "WARNING:tensorflow:From /usr/local/lib/python3.6/dist-packages/keras/backend/tensorflow_backend.py:190: The name tf.get_default_session is deprecated. Please use tf.compat.v1.get_default_session instead.\n",
            "\n",
            "WARNING:tensorflow:From /usr/local/lib/python3.6/dist-packages/keras/backend/tensorflow_backend.py:197: The name tf.ConfigProto is deprecated. Please use tf.compat.v1.ConfigProto instead.\n",
            "\n",
            "WARNING:tensorflow:From /usr/local/lib/python3.6/dist-packages/keras/backend/tensorflow_backend.py:207: The name tf.global_variables is deprecated. Please use tf.compat.v1.global_variables instead.\n",
            "\n",
            "WARNING:tensorflow:From /usr/local/lib/python3.6/dist-packages/keras/backend/tensorflow_backend.py:216: The name tf.is_variable_initialized is deprecated. Please use tf.compat.v1.is_variable_initialized instead.\n",
            "\n",
            "WARNING:tensorflow:From /usr/local/lib/python3.6/dist-packages/keras/backend/tensorflow_backend.py:223: The name tf.variables_initializer is deprecated. Please use tf.compat.v1.variables_initializer instead.\n",
            "\n",
            "808/808 [==============================] - 14s 18ms/step - loss: 0.0473 - val_loss: 0.0065\n",
            "Epoch 2/100\n",
            "808/808 [==============================] - 10s 12ms/step - loss: 0.0109 - val_loss: 0.0016\n",
            "Epoch 3/100\n",
            "808/808 [==============================] - 10s 12ms/step - loss: 0.0051 - val_loss: 0.0017\n",
            "Epoch 4/100\n",
            "808/808 [==============================] - 9s 12ms/step - loss: 0.0035 - val_loss: 0.0011\n",
            "Epoch 5/100\n",
            "808/808 [==============================] - 10s 12ms/step - loss: 0.0033 - val_loss: 0.0011\n",
            "Epoch 6/100\n",
            "808/808 [==============================] - 10s 12ms/step - loss: 0.0030 - val_loss: 0.0017\n",
            "Epoch 7/100\n",
            "808/808 [==============================] - 9s 12ms/step - loss: 0.0030 - val_loss: 0.0015\n",
            "Epoch 8/100\n",
            "808/808 [==============================] - 10s 12ms/step - loss: 0.0027 - val_loss: 0.0013\n",
            "Epoch 9/100\n",
            "808/808 [==============================] - 10s 12ms/step - loss: 0.0026 - val_loss: 0.0011\n",
            "Epoch 10/100\n",
            "808/808 [==============================] - 9s 12ms/step - loss: 0.0024 - val_loss: 9.9441e-04\n",
            "Epoch 11/100\n",
            "808/808 [==============================] - 10s 12ms/step - loss: 0.0024 - val_loss: 0.0016\n",
            "Epoch 12/100\n",
            "808/808 [==============================] - 10s 12ms/step - loss: 0.0024 - val_loss: 0.0021\n",
            "Epoch 13/100\n",
            "808/808 [==============================] - 9s 12ms/step - loss: 0.0021 - val_loss: 0.0011\n",
            "Epoch 14/100\n",
            "808/808 [==============================] - 10s 12ms/step - loss: 0.0023 - val_loss: 0.0011\n",
            "Epoch 15/100\n",
            "808/808 [==============================] - 10s 12ms/step - loss: 0.0023 - val_loss: 0.0011\n",
            "Epoch 16/100\n",
            "808/808 [==============================] - 10s 12ms/step - loss: 0.0021 - val_loss: 0.0021\n",
            "Epoch 17/100\n",
            "808/808 [==============================] - 9s 12ms/step - loss: 0.0020 - val_loss: 0.0011\n",
            "Epoch 18/100\n",
            "808/808 [==============================] - 10s 12ms/step - loss: 0.0020 - val_loss: 0.0011\n",
            "Epoch 19/100\n",
            "808/808 [==============================] - 10s 12ms/step - loss: 0.0017 - val_loss: 0.0031\n",
            "Epoch 20/100\n",
            "808/808 [==============================] - 10s 12ms/step - loss: 0.0021 - val_loss: 0.0020\n"
          ],
          "name": "stdout"
        },
        {
          "output_type": "execute_result",
          "data": {
            "text/plain": [
              "<keras.callbacks.History at 0x7fe4d6132940>"
            ]
          },
          "metadata": {
            "tags": []
          },
          "execution_count": 13
        }
      ]
    },
    {
      "cell_type": "markdown",
      "metadata": {
        "colab_type": "text",
        "id": "LRZ1nHe0Gjy5"
      },
      "source": [
        "# **Testing Model**"
      ]
    },
    {
      "cell_type": "code",
      "metadata": {
        "id": "qyAUCY0FGwsM",
        "colab_type": "code",
        "colab": {}
      },
      "source": [
        "from tensorflow.keras.models import load_model\n",
        "prediction_model = load_model('/content/mdl_wts.hdf5')"
      ],
      "execution_count": 0,
      "outputs": []
    },
    {
      "cell_type": "code",
      "metadata": {
        "id": "lT71_QwcHEof",
        "colab_type": "code",
        "outputId": "674692de-7a3b-4e60-addc-39ce1d9a328d",
        "colab": {
          "base_uri": "https://localhost:8080/",
          "height": 283
        }
      },
      "source": [
        "predictions = prediction_model.predict(x_test)\n",
        "predictions = scaler.inverse_transform(predictions)\n",
        "open_data = scaler.inverse_transform(open_data)\n",
        "\n",
        "fig, ax = plt.subplots(figsize=(8,4))\n",
        "plt.plot(open_data, color=\"red\", label=\"True Price of Stock\")\n",
        "ax.plot(range(len(y_train)+50,len(y_train)+50+len(predictions)),predictions, color='blue', label='Predicted Testing Price')\n",
        "plt.legend()"
      ],
      "execution_count": 0,
      "outputs": [
        {
          "output_type": "execute_result",
          "data": {
            "text/plain": [
              "<matplotlib.legend.Legend at 0x7fe4c8535668>"
            ]
          },
          "metadata": {
            "tags": []
          },
          "execution_count": 27
        },
        {
          "output_type": "display_data",
          "data": {
            "image/png": "[encoded data removed]",
            "text/plain": [
              "<Figure size 576x288 with 1 Axes>"
            ]
          },
          "metadata": {
            "tags": []
          }
        }
      ]
    }
  ]
}